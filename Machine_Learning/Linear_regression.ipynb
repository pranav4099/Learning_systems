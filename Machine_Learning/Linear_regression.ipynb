{
  "nbformat": 4,
  "nbformat_minor": 0,
  "metadata": {
    "colab": {
      "provenance": [],
      "collapsed_sections": []
    },
    "kernelspec": {
      "name": "python3",
      "display_name": "Python 3"
    },
    "language_info": {
      "name": "python"
    }
  },
  "cells": [
    {
      "cell_type": "markdown",
      "source": [
        "\n",
        "#<font color='red'>***LINEAR REGRESSION (incomplete)***</font>\n",
        "\n",
        "\n",
        "Notebook written by <font color='red'>***Pranav Chellagurki***.</font>"
      ],
      "metadata": {
        "id": "radCEkA868Me"
      }
    },
    {
      "cell_type": "code",
      "source": [
        "import numpy as np\n",
        "import matplotlib.pyplot as plt\n",
        "import pandas as pd"
      ],
      "metadata": {
        "id": "XxweouSgCZwz"
      },
      "execution_count": null,
      "outputs": []
    },
    {
      "cell_type": "markdown",
      "source": [
        "How do you understand if you have a good solution? \n"
      ],
      "metadata": {
        "id": "748AMnTHU-Vt"
      }
    },
    {
      "cell_type": "markdown",
      "source": [
        "Like any problem you have ever encountered, you evaluate your approach by comparing your results with the expected outcome. If they match, then you have a good solution, else, you move on to a different approach."
      ],
      "metadata": {
        "id": "dWBysDKPVoUS"
      }
    },
    {
      "cell_type": "markdown",
      "source": [
        "In the same spirit, we need a method by which we can calculate if the solution provided by the ML algorithm is accurate. In linear regression, we use the Least-squares approach. For each entry in the training set, we can compare the predicted result with the ground truth. The errors have to be squared as we are ONLY interested in the magnitude of the error. "
      ],
      "metadata": {
        "id": "T-u_5quaV7vR"
      }
    },
    {
      "cell_type": "markdown",
      "source": [
        "Now, for EACH value of the parameter, you can imagine that we will have a different value for the TOTAL ERROR. Which should reduce over time. \n",
        "\n",
        "Visually, this can be represented as a **PARABOLA**. Why?\n",
        "\n",
        "\n",
        "\\\n",
        "# **Think about this example**:\n",
        "\\\n",
        "\\\n",
        "You are on your school bus, on your way back home. Let the Y-axis represent the NUMBER OF STOPS. and let the X-axis represent the DISTANCE FROM YOUR HOME. You can imagine that you get off at stop number 6, which happens to be exactly where your home is located. Now, as you approach stop 6, the distance to your home keeps reducing. The distance WILL be at an ALL time low when STOP 6 arrives. \n",
        "But if you were to miss your stop, does the distance from your home remain the same? NO! It increases. If you were to plot this scenario on a graph, it would resemble a parabola."
      ],
      "metadata": {
        "id": "VVECLo3LXSiA"
      }
    },
    {
      "cell_type": "code",
      "source": [
        "y=[12,10,8,6,4,2,0,2,4,6,8,10,12]\n",
        "x=[0,0.5,1,1.7,3,4,6,8,9,10.3,11,11.5,12]\n",
        "\n",
        "plt.scatter(x, y)\n",
        "plt.xlabel('STOP NUMBER')\n",
        "plt.ylabel('DISTANCE FROM HOME')\n",
        "plt.show()"
      ],
      "metadata": {
        "colab": {
          "base_uri": "https://localhost:8080/",
          "height": 279
        },
        "id": "g45XGaBfT1Gg",
        "outputId": "2f5a2147-ac13-4817-cf03-66d409830d96"
      },
      "execution_count": null,
      "outputs": [
        {
          "output_type": "display_data",
          "data": {
            "text/plain": [
              "<Figure size 432x288 with 1 Axes>"
            ],
            "image/png": "[encoded data removed]"
          },
          "metadata": {
            "needs_background": "light"
          }
        }
      ]
    },
    {
      "cell_type": "markdown",
      "source": [
        "### The **gradient descent** algorithm is used to essentially **FIND STOP 6.** How do we do that?\n",
        "\\\n",
        "**The Math in a NON-MATH way**:\n",
        "\n",
        "Think of the parabola as a slide. If you were to slide into the parabola from one of the ends, where would you finally land? (Assume that you do not build enough momentum to exit the PIT). \\\n",
        "\\\n",
        "AT THE BOTTOM OF THE PIT! Why? because anywhere else, you would slide right into the bottom. \\\n",
        "The gradient descent algorithm uses similar logic. It tries to find the location on the parabola where the **SLOPE=0**. The sides of the parabola are slant, but, at the exact center, the slope reduces to 0.\n"
      ],
      "metadata": {
        "id": "zth-K3zUYqDx"
      }
    },
    {
      "cell_type": "markdown",
      "source": [
        "**The Math**:\n",
        "\\\n",
        "Essential terms:\n",
        "What is \"slope\"?\n",
        "\n",
        "It is the INCREASE IN Y-AXIS for EACH UNIT INCREASE IN X-AXIS.\n",
        "\n",
        "Coming back to our school bus example. Assume that the distance between your home and STOP 0 (The school) is 12KM. For easier understanding, Let us **ASSUME** that each stop was placed at equal distances from one another.\n",
        "\\\n",
        "\\\n",
        "What is the distance between each stop? 2KM!. Hence, for every stop, your distance from your home either decreases or increases by 2KM!\n",
        "\\\n",
        "**THAT IS THE SLOPE!**\n",
        "\\\n",
        "\\\n",
        "The Y-AXIS changes by 2km, every time the X-AXIS increases by 1.\n",
        "\\\n",
        "The slope of a straight line is ALWAYS constant. The slope of the parabola, however, keeps changing. But, for this example let us assume that it stays constant.\n",
        "\\\n",
        "\\\n",
        "In other words, **you can find the SLOPE by calculating the RATE OF CHANGE IN Y WRT TO X**.\n",
        "\n"
      ],
      "metadata": {
        "id": "M8TdUN34i44_"
      }
    },
    {
      "cell_type": "code",
      "source": [
        "y=[12,10,8,6,4,2,0,2,4,6,8,10,12]\n",
        "x=[0,0.5,1,1.7,3,4,6,8,9,10.3,11,11.5,12]\n",
        "\n",
        "plt.scatter(x, y)\n",
        "plt.xlabel('STOP NUMBER')\n",
        "plt.ylabel('DISTANCE FROM HOME')\n",
        "plt.show()"
      ],
      "metadata": {
        "colab": {
          "base_uri": "https://localhost:8080/",
          "height": 279
        },
        "id": "P7cvDs7AkIGV",
        "outputId": "b1276d61-f0ea-47ad-aecb-e5ce135621a0"
      },
      "execution_count": null,
      "outputs": [
        {
          "output_type": "display_data",
          "data": {
            "text/plain": [
              "<Figure size 432x288 with 1 Axes>"
            ],
            "image/png": "[encoded data removed]"
          },
          "metadata": {
            "needs_background": "light"
          }
        }
      ]
    },
    {
      "cell_type": "markdown",
      "source": [
        "Say the value of Y @ X1 is V1. Now let us change the value of X by H. The new value of Y @ X1+H is V2. The SLOPE can then be represented by: **(V2-V1)/H**\n",
        "\n",
        "The CHANGE in Y, wrt CHANGE in X. \\\n",
        "\n",
        "---\n",
        "Additional INFO: \n",
        "\n",
        "\n",
        "\n",
        "\n",
        "We also just learned what a **derivative** is! The derivative at any point gives us the slope @ THAT point.\n",
        "\\\n",
        "Hence, if we were to iteratively find the DERIVATIVE @ EACH point, then we are BOUND to stumble across the point where the SLOPE is 0. \\\n",
        "\\\n",
        "And that is exactly how **gradient descent works**!\n",
        "\n",
        "\n",
        "---\n",
        "\n",
        "\n",
        "\n",
        "\n",
        "**What did we learn SO FAR:**\n",
        "\n",
        "- SLOPE \n",
        "\n",
        "- The total error for different values can be visualized as a parabola. \n",
        "- The optimum solution is present at the bottom of the parabola, where the slope=0.\n",
        "-The optimum solution lies at the point where the slope is 0. \n",
        "-We can find the solution, by iteratively finding the derivative at each point, which gives us the slope. This is called gradient descent.\n",
        "\n",
        "---\n",
        "\n",
        "\n"
      ],
      "metadata": {
        "id": "pGzJB9JekIh1"
      }
    },
    {
      "cell_type": "markdown",
      "source": [
        "**NOTE:**\n",
        "In reality, the stops aren't equally spaced. If the slope was ALWAYS the same, it would form a LINE. We would then have a V, rather than a U (parabola). \n",
        "\n",
        "---\n",
        "\n",
        "\n",
        "**Terminology alert:**\n",
        "\\\n",
        "\\\n",
        "TOTAL ERROR: \n",
        "\\\n",
        "represents the total error of the system, when compared to our results. This is always calculated by our LOSS FUNCTION, which in this case is Mean Squared Error.\n",
        "\\\n",
        "\\\n",
        "MEAN SQUARED ERROR:\n",
        "\\\n",
        "It is exactly what it says. It is the MEAN of the SQUARED ERROR.\n",
        "\\\n",
        "![MSE.jpeg](data:image/jpeg;base64,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)\n",
        "Example: Consider that there are 2 data points with values 2,7. We were able to predict these values as 4,5.\n",
        "\\\n",
        "MSE = ((2-4)^2 + (7-5)^2) / 2 = 4."
      ],
      "metadata": {
        "id": "NDehX-K5hVgk"
      }
    },
    {
      "cell_type": "markdown",
      "source": [
        "The predicted value is given to us using equation of the LINE: \\\n",
        "# **Y = M*x + C**\n",
        "\\\n",
        "**M** = Slope of the line.\n",
        "\\\n",
        "**C** = The Y-intercept of the line.\n",
        "\\\n",
        "\\\n",
        "For each value of the slope and intercept, a NEW line is formed, which gives us a completely different value for the TOTAL ERROR. \\\n",
        "Hence, WE want to find the optimum solution for both M, and C. \\\n",
        "\\\n",
        "We can draw two different graphs for this.\n",
        "\\\n",
        "ONE, which shows us the change in TOTAL ERROR wrt to change in C. \\\n",
        "\n"
      ],
      "metadata": {
        "id": "6_4ZLVhxiY2v"
      }
    },
    {
      "cell_type": "code",
      "source": [
        "y=[120,100,80,60,40,20,0,20,40,62,82,100,120]\n",
        "x=[0,0.5,1,1.7,3,4,6,8,9,10.3,11,11.5,12]\n",
        "\n",
        "plt.scatter(x, y)\n",
        "plt.xlabel('Intercept C')\n",
        "plt.ylabel('TOTAL ERROR')\n",
        "plt.show()"
      ],
      "metadata": {
        "colab": {
          "base_uri": "https://localhost:8080/",
          "height": 279
        },
        "id": "aZF4fTydq1mA",
        "outputId": "341f9623-3593-4c0e-b810-55641c602ea0"
      },
      "execution_count": null,
      "outputs": [
        {
          "output_type": "display_data",
          "data": {
            "text/plain": [
              "<Figure size 432x288 with 1 Axes>"
            ],
            "image/png": "[encoded data removed]"
          },
          "metadata": {
            "needs_background": "light"
          }
        }
      ]
    },
    {
      "cell_type": "code",
      "source": [
        "y=[120,100,80,60,40,20,0,20,40,62,82,100,120]\n",
        "x=[0,0.5,1,1.7,3,4,6,8,9,10.3,11,11.5,12]\n",
        "\n",
        "plt.scatter(x, y)\n",
        "plt.xlabel('Slope M')\n",
        "plt.ylabel('TOTAL ERROR')\n",
        "plt.show()"
      ],
      "metadata": {
        "colab": {
          "base_uri": "https://localhost:8080/",
          "height": 279
        },
        "id": "Jqoxi31JrkEe",
        "outputId": "9c95c049-38cd-466b-c707-0aaab4c527a8"
      },
      "execution_count": null,
      "outputs": [
        {
          "output_type": "display_data",
          "data": {
            "text/plain": [
              "<Figure size 432x288 with 1 Axes>"
            ],
            "image/png": "[encoded data removed]"
          },
          "metadata": {
            "needs_background": "light"
          }
        }
      ]
    },
    {
      "cell_type": "markdown",
      "source": [
        "The other which shows us the change in TOTAL ERROR wrt change in M. \\\n",
        "\\\n",
        "We take the derivative at each point for both the graphs (Separately). Until we reach the points where the slope=0, the value of M, and C where the TOTAL ERROR is MiNIMUM (STOP 6 in our School bus example).\n",
        "\\\n",
        "\\\n",
        "The optimization function then becomes: \\\n",
        "**B = B - (Direvative OF LOSS_FUNCTION wrt B)**\n",
        "\\\n",
        "**C = C - (Direvative OF LOSS_FUNCTION wrt C)**\n",
        "\\\n",
        "\\\n",
        "Why do we subtract?\n",
        "\\\n",
        "\\\n",
        "Let us go back to our School bus example. \n",
        "\\\n",
        "\\\n",
        "To reach our Optimum solution, ie, slope=0, we need to move towards STOP 6.\\\n",
        "Say we are at stop 1 and we proceed to stop 3. We move 2 lengths in the X-axis. Our Distance drops from 12 to 8. \\\n",
        "Slope = (8 - 12)/2 = -2. \\\n",
        "Our current value of the STOP number is 3. We need to move towards 6. That is, we need to ADD to the current value of the STOP number.\n",
        "\n",
        "STOP_number = STOP_number - SLOPE\n",
        "\\\n",
        "NOTE: Slope = Derivative.\n",
        "\n",
        "STOP_number then becomes 5. We are now CLOSER to our optimum solution.\\\n",
        "\\\n",
        "Let us consider another case, where we have crossed STOP 6. \\\n",
        "We move from STOP 8 - 9.\n",
        "Slope = (18 - 16)/1 = +2.\n",
        "\\\n",
        "\\\n",
        "in This case, we NEED to DECREASE our STOP_number. \\\n",
        "\\\n",
        "STOP_number = STOP_number - (+2) \\\n",
        "It reduces from 8, to 6. \\\n",
        "\\\n",
        "**WE ALWAYS NEED TO MOVE IN THE OPPOSITE DIRECTION OF THE GRADIENT.**\n"
      ],
      "metadata": {
        "id": "ek9-wUxmq2E-"
      }
    },
    {
      "cell_type": "markdown",
      "source": [
        "**NEED FOR A SCALING FACTOR (LEARNING RATE)**"
      ],
      "metadata": {
        "id": "kLX3DsSJv7NX"
      }
    }
  ]
}